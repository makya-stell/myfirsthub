{
  "nbformat": 4,
  "nbformat_minor": 0,
  "metadata": {
    "colab": {
      "provenance": [],
      "include_colab_link": true
    },
    "kernelspec": {
      "name": "python3",
      "display_name": "Python 3"
    },
    "language_info": {
      "name": "python"
    }
  },
  "cells": [
    {
      "cell_type": "markdown",
      "metadata": {
        "id": "view-in-github",
        "colab_type": "text"
      },
      "source": [
        "<a href=\"https://colab.research.google.com/github/makya-stell/myfirsthub/blob/main/CV2023_hw4.ipynb\" target=\"_parent\"><img src=\"https://colab.research.google.com/assets/colab-badge.svg\" alt=\"Open In Colab\"/></a>"
      ]
    },
    {
      "cell_type": "markdown",
      "source": [
        "# Q1 - reconstruct 3d points"
      ],
      "metadata": {
        "id": "zxgcxXyaWkVK"
      }
    },
    {
      "cell_type": "markdown",
      "source": [
        "### Install packages"
      ],
      "metadata": {
        "id": "tw_DLM9IW7vc"
      }
    },
    {
      "cell_type": "code",
      "execution_count": 17,
      "metadata": {
        "colab": {
          "base_uri": "https://localhost:8080/",
          "height": 1000
        },
        "id": "lXsKl5RXLeKF",
        "outputId": "49094ae3-8c6b-4177-a504-6275c97056b6"
      },
      "outputs": [
        {
          "output_type": "stream",
          "name": "stdout",
          "text": [
            "Looking in indexes: https://pypi.org/simple, https://us-python.pkg.dev/colab-wheels/public/simple/\n",
            "Collecting open3d\n",
            "  Downloading open3d-0.17.0-cp39-cp39-manylinux_2_27_x86_64.whl (420.5 MB)\n",
            "\u001b[2K     \u001b[90m━━━━━━━━━━━━━━━━━━━━━━━━━━━━━━━━━━━━━━━\u001b[0m \u001b[32m420.5/420.5 MB\u001b[0m \u001b[31m3.4 MB/s\u001b[0m eta \u001b[36m0:00:00\u001b[0m\n",
            "\u001b[?25hCollecting nbformat==5.7.0\n",
            "  Downloading nbformat-5.7.0-py3-none-any.whl (77 kB)\n",
            "\u001b[2K     \u001b[90m━━━━━━━━━━━━━━━━━━━━━━━━━━━━━━━━━━━━━━━━\u001b[0m \u001b[32m77.1/77.1 kB\u001b[0m \u001b[31m8.6 MB/s\u001b[0m eta \u001b[36m0:00:00\u001b[0m\n",
            "\u001b[?25hRequirement already satisfied: matplotlib>=3 in /usr/local/lib/python3.9/dist-packages (from open3d) (3.7.1)\n",
            "Collecting dash>=2.6.0\n",
            "  Downloading dash-2.9.3-py3-none-any.whl (10.2 MB)\n",
            "\u001b[2K     \u001b[90m━━━━━━━━━━━━━━━━━━━━━━━━━━━━━━━━━━━━━━━━\u001b[0m \u001b[32m10.2/10.2 MB\u001b[0m \u001b[31m86.4 MB/s\u001b[0m eta \u001b[36m0:00:00\u001b[0m\n",
            "\u001b[?25hRequirement already satisfied: numpy>1.15 in /usr/local/lib/python3.9/dist-packages (from open3d) (1.22.4)\n",
            "Collecting pillow>=9.3.0\n",
            "  Downloading Pillow-9.5.0-cp39-cp39-manylinux_2_28_x86_64.whl (3.4 MB)\n",
            "\u001b[2K     \u001b[90m━━━━━━━━━━━━━━━━━━━━━━━━━━━━━━━━━━━━━━━━\u001b[0m \u001b[32m3.4/3.4 MB\u001b[0m \u001b[31m20.8 MB/s\u001b[0m eta \u001b[36m0:00:00\u001b[0m\n",
            "\u001b[?25hCollecting addict\n",
            "  Downloading addict-2.4.0-py3-none-any.whl (3.8 kB)\n",
            "Requirement already satisfied: pandas>=1.0 in /usr/local/lib/python3.9/dist-packages (from open3d) (1.5.3)\n",
            "Collecting ipywidgets>=8.0.4\n",
            "  Downloading ipywidgets-8.0.6-py3-none-any.whl (138 kB)\n",
            "\u001b[2K     \u001b[90m━━━━━━━━━━━━━━━━━━━━━━━━━━━━━━━━━━━━━━\u001b[0m \u001b[32m138.3/138.3 kB\u001b[0m \u001b[31m11.0 MB/s\u001b[0m eta \u001b[36m0:00:00\u001b[0m\n",
            "\u001b[?25hRequirement already satisfied: tqdm in /usr/local/lib/python3.9/dist-packages (from open3d) (4.65.0)\n",
            "Collecting configargparse\n",
            "  Downloading ConfigArgParse-1.5.3-py3-none-any.whl (20 kB)\n",
            "Requirement already satisfied: pyyaml>=5.4.1 in /usr/local/lib/python3.9/dist-packages (from open3d) (6.0)\n",
            "Requirement already satisfied: scikit-learn>=0.21 in /usr/local/lib/python3.9/dist-packages (from open3d) (1.2.2)\n",
            "Requirement already satisfied: werkzeug>=2.2.3 in /usr/local/lib/python3.9/dist-packages (from open3d) (2.2.3)\n",
            "Collecting pyquaternion\n",
            "  Downloading pyquaternion-0.9.9-py3-none-any.whl (14 kB)\n",
            "Requirement already satisfied: fastjsonschema in /usr/local/lib/python3.9/dist-packages (from nbformat==5.7.0->open3d) (2.16.3)\n",
            "Requirement already satisfied: jupyter-core in /usr/local/lib/python3.9/dist-packages (from nbformat==5.7.0->open3d) (5.3.0)\n",
            "Requirement already satisfied: jsonschema>=2.6 in /usr/local/lib/python3.9/dist-packages (from nbformat==5.7.0->open3d) (4.3.3)\n",
            "Requirement already satisfied: traitlets>=5.1 in /usr/local/lib/python3.9/dist-packages (from nbformat==5.7.0->open3d) (5.7.1)\n",
            "Collecting dash-core-components==2.0.0\n",
            "  Downloading dash_core_components-2.0.0-py3-none-any.whl (3.8 kB)\n",
            "Requirement already satisfied: plotly>=5.0.0 in /usr/local/lib/python3.9/dist-packages (from dash>=2.6.0->open3d) (5.13.1)\n",
            "Requirement already satisfied: Flask>=1.0.4 in /usr/local/lib/python3.9/dist-packages (from dash>=2.6.0->open3d) (2.2.3)\n",
            "Collecting dash-table==5.0.0\n",
            "  Downloading dash_table-5.0.0-py3-none-any.whl (3.9 kB)\n",
            "Collecting dash-html-components==2.0.0\n",
            "  Downloading dash_html_components-2.0.0-py3-none-any.whl (4.1 kB)\n",
            "Requirement already satisfied: ipython>=6.1.0 in /usr/local/lib/python3.9/dist-packages (from ipywidgets>=8.0.4->open3d) (7.34.0)\n",
            "Requirement already satisfied: ipykernel>=4.5.1 in /usr/local/lib/python3.9/dist-packages (from ipywidgets>=8.0.4->open3d) (5.5.6)\n",
            "Collecting widgetsnbextension~=4.0.7\n",
            "  Downloading widgetsnbextension-4.0.7-py3-none-any.whl (2.1 MB)\n",
            "\u001b[2K     \u001b[90m━━━━━━━━━━━━━━━━━━━━━━━━━━━━━━━━━━━━━━━━\u001b[0m \u001b[32m2.1/2.1 MB\u001b[0m \u001b[31m26.5 MB/s\u001b[0m eta \u001b[36m0:00:00\u001b[0m\n",
            "\u001b[?25hRequirement already satisfied: jupyterlab-widgets~=3.0.7 in /usr/local/lib/python3.9/dist-packages (from ipywidgets>=8.0.4->open3d) (3.0.7)\n",
            "Requirement already satisfied: contourpy>=1.0.1 in /usr/local/lib/python3.9/dist-packages (from matplotlib>=3->open3d) (1.0.7)\n",
            "Requirement already satisfied: cycler>=0.10 in /usr/local/lib/python3.9/dist-packages (from matplotlib>=3->open3d) (0.11.0)\n",
            "Requirement already satisfied: packaging>=20.0 in /usr/local/lib/python3.9/dist-packages (from matplotlib>=3->open3d) (23.1)\n",
            "Requirement already satisfied: importlib-resources>=3.2.0 in /usr/local/lib/python3.9/dist-packages (from matplotlib>=3->open3d) (5.12.0)\n",
            "Requirement already satisfied: python-dateutil>=2.7 in /usr/local/lib/python3.9/dist-packages (from matplotlib>=3->open3d) (2.8.2)\n",
            "Requirement already satisfied: fonttools>=4.22.0 in /usr/local/lib/python3.9/dist-packages (from matplotlib>=3->open3d) (4.39.3)\n",
            "Requirement already satisfied: kiwisolver>=1.0.1 in /usr/local/lib/python3.9/dist-packages (from matplotlib>=3->open3d) (1.4.4)\n",
            "Requirement already satisfied: pyparsing>=2.3.1 in /usr/local/lib/python3.9/dist-packages (from matplotlib>=3->open3d) (3.0.9)\n",
            "Requirement already satisfied: pytz>=2020.1 in /usr/local/lib/python3.9/dist-packages (from pandas>=1.0->open3d) (2022.7.1)\n",
            "Requirement already satisfied: joblib>=1.1.1 in /usr/local/lib/python3.9/dist-packages (from scikit-learn>=0.21->open3d) (1.2.0)\n",
            "Requirement already satisfied: threadpoolctl>=2.0.0 in /usr/local/lib/python3.9/dist-packages (from scikit-learn>=0.21->open3d) (3.1.0)\n",
            "Requirement already satisfied: scipy>=1.3.2 in /usr/local/lib/python3.9/dist-packages (from scikit-learn>=0.21->open3d) (1.10.1)\n",
            "Requirement already satisfied: MarkupSafe>=2.1.1 in /usr/local/lib/python3.9/dist-packages (from werkzeug>=2.2.3->open3d) (2.1.2)\n",
            "Requirement already satisfied: Jinja2>=3.0 in /usr/local/lib/python3.9/dist-packages (from Flask>=1.0.4->dash>=2.6.0->open3d) (3.1.2)\n",
            "Requirement already satisfied: itsdangerous>=2.0 in /usr/local/lib/python3.9/dist-packages (from Flask>=1.0.4->dash>=2.6.0->open3d) (2.1.2)\n",
            "Requirement already satisfied: click>=8.0 in /usr/local/lib/python3.9/dist-packages (from Flask>=1.0.4->dash>=2.6.0->open3d) (8.1.3)\n",
            "Requirement already satisfied: importlib-metadata>=3.6.0 in /usr/local/lib/python3.9/dist-packages (from Flask>=1.0.4->dash>=2.6.0->open3d) (6.4.1)\n",
            "Requirement already satisfied: zipp>=3.1.0 in /usr/local/lib/python3.9/dist-packages (from importlib-resources>=3.2.0->matplotlib>=3->open3d) (3.15.0)\n",
            "Requirement already satisfied: jupyter-client in /usr/local/lib/python3.9/dist-packages (from ipykernel>=4.5.1->ipywidgets>=8.0.4->open3d) (6.1.12)\n",
            "Requirement already satisfied: tornado>=4.2 in /usr/local/lib/python3.9/dist-packages (from ipykernel>=4.5.1->ipywidgets>=8.0.4->open3d) (6.2)\n",
            "Requirement already satisfied: ipython-genutils in /usr/local/lib/python3.9/dist-packages (from ipykernel>=4.5.1->ipywidgets>=8.0.4->open3d) (0.2.0)\n",
            "Requirement already satisfied: setuptools>=18.5 in /usr/local/lib/python3.9/dist-packages (from ipython>=6.1.0->ipywidgets>=8.0.4->open3d) (67.6.1)\n",
            "Requirement already satisfied: prompt-toolkit!=3.0.0,!=3.0.1,<3.1.0,>=2.0.0 in /usr/local/lib/python3.9/dist-packages (from ipython>=6.1.0->ipywidgets>=8.0.4->open3d) (3.0.38)\n",
            "Requirement already satisfied: decorator in /usr/local/lib/python3.9/dist-packages (from ipython>=6.1.0->ipywidgets>=8.0.4->open3d) (4.4.2)\n",
            "Requirement already satisfied: pexpect>4.3 in /usr/local/lib/python3.9/dist-packages (from ipython>=6.1.0->ipywidgets>=8.0.4->open3d) (4.8.0)\n",
            "Collecting jedi>=0.16\n",
            "  Downloading jedi-0.18.2-py2.py3-none-any.whl (1.6 MB)\n",
            "\u001b[2K     \u001b[90m━━━━━━━━━━━━━━━━━━━━━━━━━━━━━━━━━━━━━━━━\u001b[0m \u001b[32m1.6/1.6 MB\u001b[0m \u001b[31m34.3 MB/s\u001b[0m eta \u001b[36m0:00:00\u001b[0m\n",
            "\u001b[?25hRequirement already satisfied: pickleshare in /usr/local/lib/python3.9/dist-packages (from ipython>=6.1.0->ipywidgets>=8.0.4->open3d) (0.7.5)\n",
            "Requirement already satisfied: pygments in /usr/local/lib/python3.9/dist-packages (from ipython>=6.1.0->ipywidgets>=8.0.4->open3d) (2.14.0)\n",
            "Requirement already satisfied: backcall in /usr/local/lib/python3.9/dist-packages (from ipython>=6.1.0->ipywidgets>=8.0.4->open3d) (0.2.0)\n",
            "Requirement already satisfied: matplotlib-inline in /usr/local/lib/python3.9/dist-packages (from ipython>=6.1.0->ipywidgets>=8.0.4->open3d) (0.1.6)\n",
            "Requirement already satisfied: attrs>=17.4.0 in /usr/local/lib/python3.9/dist-packages (from jsonschema>=2.6->nbformat==5.7.0->open3d) (23.1.0)\n",
            "Requirement already satisfied: pyrsistent!=0.17.0,!=0.17.1,!=0.17.2,>=0.14.0 in /usr/local/lib/python3.9/dist-packages (from jsonschema>=2.6->nbformat==5.7.0->open3d) (0.19.3)\n",
            "Requirement already satisfied: tenacity>=6.2.0 in /usr/local/lib/python3.9/dist-packages (from plotly>=5.0.0->dash>=2.6.0->open3d) (8.2.2)\n",
            "Requirement already satisfied: six>=1.5 in /usr/local/lib/python3.9/dist-packages (from python-dateutil>=2.7->matplotlib>=3->open3d) (1.16.0)\n",
            "Requirement already satisfied: platformdirs>=2.5 in /usr/local/lib/python3.9/dist-packages (from jupyter-core->nbformat==5.7.0->open3d) (3.2.0)\n",
            "Requirement already satisfied: parso<0.9.0,>=0.8.0 in /usr/local/lib/python3.9/dist-packages (from jedi>=0.16->ipython>=6.1.0->ipywidgets>=8.0.4->open3d) (0.8.3)\n",
            "Requirement already satisfied: ptyprocess>=0.5 in /usr/local/lib/python3.9/dist-packages (from pexpect>4.3->ipython>=6.1.0->ipywidgets>=8.0.4->open3d) (0.7.0)\n",
            "Requirement already satisfied: wcwidth in /usr/local/lib/python3.9/dist-packages (from prompt-toolkit!=3.0.0,!=3.0.1,<3.1.0,>=2.0.0->ipython>=6.1.0->ipywidgets>=8.0.4->open3d) (0.2.6)\n",
            "Requirement already satisfied: pyzmq>=13 in /usr/local/lib/python3.9/dist-packages (from jupyter-client->ipykernel>=4.5.1->ipywidgets>=8.0.4->open3d) (23.2.1)\n",
            "Installing collected packages: dash-table, dash-html-components, dash-core-components, addict, widgetsnbextension, pyquaternion, pillow, jedi, configargparse, nbformat, dash, ipywidgets, open3d\n",
            "  Attempting uninstall: widgetsnbextension\n",
            "    Found existing installation: widgetsnbextension 3.6.4\n",
            "    Uninstalling widgetsnbextension-3.6.4:\n",
            "      Successfully uninstalled widgetsnbextension-3.6.4\n",
            "  Attempting uninstall: pillow\n",
            "    Found existing installation: Pillow 8.4.0\n",
            "    Uninstalling Pillow-8.4.0:\n",
            "      Successfully uninstalled Pillow-8.4.0\n",
            "  Attempting uninstall: nbformat\n",
            "    Found existing installation: nbformat 5.8.0\n",
            "    Uninstalling nbformat-5.8.0:\n",
            "      Successfully uninstalled nbformat-5.8.0\n",
            "  Attempting uninstall: ipywidgets\n",
            "    Found existing installation: ipywidgets 7.7.1\n",
            "    Uninstalling ipywidgets-7.7.1:\n",
            "      Successfully uninstalled ipywidgets-7.7.1\n",
            "Successfully installed addict-2.4.0 configargparse-1.5.3 dash-2.9.3 dash-core-components-2.0.0 dash-html-components-2.0.0 dash-table-5.0.0 ipywidgets-8.0.6 jedi-0.18.2 nbformat-5.7.0 open3d-0.17.0 pillow-9.5.0 pyquaternion-0.9.9 widgetsnbextension-4.0.7\n"
          ]
        },
        {
          "output_type": "display_data",
          "data": {
            "application/vnd.colab-display-data+json": {
              "pip_warning": {
                "packages": [
                  "PIL"
                ]
              }
            }
          },
          "metadata": {}
        },
        {
          "output_type": "stream",
          "name": "stdout",
          "text": [
            "Looking in indexes: https://pypi.org/simple, https://us-python.pkg.dev/colab-wheels/public/simple/\n",
            "Requirement already satisfied: plotly in /usr/local/lib/python3.9/dist-packages (5.13.1)\n",
            "Requirement already satisfied: tenacity>=6.2.0 in /usr/local/lib/python3.9/dist-packages (from plotly) (8.2.2)\n",
            "Looking in indexes: https://pypi.org/simple, https://us-python.pkg.dev/colab-wheels/public/simple/\n",
            "Requirement already satisfied: torchvision in /usr/local/lib/python3.9/dist-packages (0.15.1+cu118)\n",
            "Requirement already satisfied: requests in /usr/local/lib/python3.9/dist-packages (from torchvision) (2.27.1)\n",
            "Requirement already satisfied: pillow!=8.3.*,>=5.3.0 in /usr/local/lib/python3.9/dist-packages (from torchvision) (9.5.0)\n",
            "Requirement already satisfied: torch==2.0.0 in /usr/local/lib/python3.9/dist-packages (from torchvision) (2.0.0+cu118)\n",
            "Requirement already satisfied: numpy in /usr/local/lib/python3.9/dist-packages (from torchvision) (1.22.4)\n",
            "Requirement already satisfied: typing-extensions in /usr/local/lib/python3.9/dist-packages (from torch==2.0.0->torchvision) (4.5.0)\n",
            "Requirement already satisfied: triton==2.0.0 in /usr/local/lib/python3.9/dist-packages (from torch==2.0.0->torchvision) (2.0.0)\n",
            "Requirement already satisfied: jinja2 in /usr/local/lib/python3.9/dist-packages (from torch==2.0.0->torchvision) (3.1.2)\n",
            "Requirement already satisfied: sympy in /usr/local/lib/python3.9/dist-packages (from torch==2.0.0->torchvision) (1.11.1)\n",
            "Requirement already satisfied: filelock in /usr/local/lib/python3.9/dist-packages (from torch==2.0.0->torchvision) (3.11.0)\n",
            "Requirement already satisfied: networkx in /usr/local/lib/python3.9/dist-packages (from torch==2.0.0->torchvision) (3.1)\n",
            "Requirement already satisfied: lit in /usr/local/lib/python3.9/dist-packages (from triton==2.0.0->torch==2.0.0->torchvision) (16.0.1)\n",
            "Requirement already satisfied: cmake in /usr/local/lib/python3.9/dist-packages (from triton==2.0.0->torch==2.0.0->torchvision) (3.25.2)\n",
            "Requirement already satisfied: charset-normalizer~=2.0.0 in /usr/local/lib/python3.9/dist-packages (from requests->torchvision) (2.0.12)\n",
            "Requirement already satisfied: idna<4,>=2.5 in /usr/local/lib/python3.9/dist-packages (from requests->torchvision) (3.4)\n",
            "Requirement already satisfied: urllib3<1.27,>=1.21.1 in /usr/local/lib/python3.9/dist-packages (from requests->torchvision) (1.26.15)\n",
            "Requirement already satisfied: certifi>=2017.4.17 in /usr/local/lib/python3.9/dist-packages (from requests->torchvision) (2022.12.7)\n",
            "Requirement already satisfied: MarkupSafe>=2.0 in /usr/local/lib/python3.9/dist-packages (from jinja2->torch==2.0.0->torchvision) (2.1.2)\n",
            "Requirement already satisfied: mpmath>=0.19 in /usr/local/lib/python3.9/dist-packages (from sympy->torch==2.0.0->torchvision) (1.3.0)\n",
            "Looking in indexes: https://pypi.org/simple, https://us-python.pkg.dev/colab-wheels/public/simple/\n",
            "Requirement already satisfied: Pillow in /usr/local/lib/python3.9/dist-packages (9.5.0)\n"
          ]
        }
      ],
      "source": [
        "!pip install open3d\n",
        "!pip install plotly\n",
        "!pip install torchvision\n",
        "!pip install -U Pillow"
      ]
    },
    {
      "cell_type": "markdown",
      "source": [
        "### Download and open data file "
      ],
      "metadata": {
        "id": "yQD7rOurL8EM"
      }
    },
    {
      "cell_type": "code",
      "source": [
        "import requests\n",
        "\n",
        "# Replace this with the actual URL of the file you want to download\n",
        "file_url = \"https://github.com/phsamuel/reconstruct3DHW/raw/master/data_points.pickle\"\n",
        "\n",
        "# Send an HTTP request to download the file\n",
        "response = requests.get(file_url)\n",
        "\n",
        "# Ensure the request was successful (status code 200)\n",
        "if response.status_code == 200:\n",
        "    # Save the content to a local file\n",
        "    with open(\"data_points.pickle\", \"wb\") as f:\n",
        "        f.write(response.content)\n",
        "    print(\"File downloaded successfully.\")\n",
        "else:\n",
        "    print(f\"Failed to download file. Status code: {response.status_code}\")\n",
        "# Read matched points from two scenes\n",
        "\n",
        "\n",
        "import pickle\n",
        "with open('data_points.pickle','rb') as handle:\n",
        "    data=pickle.load(handle)\n",
        "\n",
        "pts1 = data['x1']\n",
        "pts2 = data['x2']\n",
        "\n",
        "from matplotlib import pyplot as plt\n",
        "\n",
        "plt.plot(pts1[:,0],pts1[:,1],'.')\n",
        "plt.title('Point cloud from view 1')"
      ],
      "metadata": {
        "id": "Z94zJf7kLqfY",
        "colab": {
          "base_uri": "https://localhost:8080/",
          "height": 487
        },
        "outputId": "a21f7e19-d59f-4096-dee5-1db3a0f927a4"
      },
      "execution_count": 1,
      "outputs": [
        {
          "output_type": "stream",
          "name": "stdout",
          "text": [
            "File downloaded successfully.\n"
          ]
        },
        {
          "output_type": "execute_result",
          "data": {
            "text/plain": [
              "Text(0.5, 1.0, 'Point cloud from view 1')"
            ]
          },
          "metadata": {},
          "execution_count": 1
        },
        {
          "output_type": "display_data",
          "data": {
            "text/plain": [
              "<Figure size 640x480 with 1 Axes>"
            ],
            "image/png": "[encoded data removed]"
          },
          "metadata": {}
        }
      ]
    },
    {
      "cell_type": "markdown",
      "source": [
        "### Find fundamental matrix from match points"
      ],
      "metadata": {
        "id": "J-i4Mmn5XIGR"
      }
    },
    {
      "cell_type": "code",
      "source": [
        "import cv2\n",
        "\n",
        "\n",
        "F, mask = cv2.findFundamentalMat(pts1,pts2,cv2.FM_8POINT)\n",
        "pts1 = pts1[mask.ravel()==1] # remove outliers by only keeping inliers\n",
        "pts2 = pts2[mask.ravel()==1] # "
      ],
      "metadata": {
        "id": "b3zNeO-kL6Hz"
      },
      "execution_count": 2,
      "outputs": []
    },
    {
      "cell_type": "code",
      "source": [
        "# Sanity check of the fundamental matrix\n",
        "import numpy as np\n",
        "\n",
        "hx1=np.hstack((pts1,np.ones((2000,1))))\n",
        "hx2=np.hstack((pts2,np.ones((2000,1))))\n",
        "\n",
        "rint=np.random.randint(hx1.shape[0])\n",
        "hx2[rint].T @ F @hx1[rint] # this should be almost zero"
      ],
      "metadata": {
        "colab": {
          "base_uri": "https://localhost:8080/"
        },
        "id": "BGkGEODkfPQi",
        "outputId": "490b7f00-c4e9-4670-e6e5-2b7ec5d9f797"
      },
      "execution_count": 3,
      "outputs": [
        {
          "output_type": "execute_result",
          "data": {
            "text/plain": [
              "-8.133159701273485e-10"
            ]
          },
          "metadata": {},
          "execution_count": 3
        }
      ]
    },
    {
      "cell_type": "code",
      "source": [
        "# Create essential matrix assuming identity intrinsic matrix\n",
        "import numpy as np\n",
        "\n",
        "K = np.eye(3) # Take the camera intrinsic matrix matrix K to be identity. \n",
        "E = K.T @ F @ K # The essential matrix is just the same as the fundamental matrix when K = I"
      ],
      "metadata": {
        "id": "54vnk0qpNKID"
      },
      "execution_count": 4,
      "outputs": []
    },
    {
      "cell_type": "markdown",
      "source": [
        "## Q1.a (5 points) Compute a potential solution of R and t from E. Note that you will only get half of the points if you use cv2.decomposeEssentialMat"
      ],
      "metadata": {
        "id": "To4vPYcXNUwc"
      }
    },
    {
      "cell_type": "code",
      "source": [
        "# complete the code here\n",
        "def compute_one_R_and_t_from_E(E):\n",
        "    # Input:\n",
        "        # E: essential matrix\n",
        "    # Output:\n",
        "        # R: rotation matrix (3x3)\n",
        "        # t: translation (3x1)\n",
        "    pass"
      ],
      "metadata": {
        "id": "d_vq1uSSNY7G"
      },
      "execution_count": null,
      "outputs": []
    },
    {
      "cell_type": "code",
      "source": [
        "def compute_one_R_and_t_from_E(E):\n",
        "    # Compute SVD of E\n",
        "    U, S, Vt = np.linalg.svd(E)\n",
        "\n",
        "    # Ensure that the singular values are equal and positive\n",
        "    assert np.allclose(S, np.array([1, 1, 0]))\n",
        "\n",
        "    # Define the two possible solutions for R and t\n",
        "    W = np.array([[0, -1, 0], [1, 0, 0], [0, 0, 1]])\n",
        "    R1 = U @ W @ Vt\n",
        "    R2 = U @ W.T @ Vt\n",
        "    t1 = U[:, 2]\n",
        "    t2 = -U[:, 2]\n",
        "\n",
        "    # Check the rotation matrix determinant\n",
        "    assert np.isclose(np.linalg.det(R1), 1) or np.isclose(np.linalg.det(R1), -1)\n",
        "    assert np.isclose(np.linalg.det(R2), 1) or np.isclose(np.linalg.det(R2), -1)\n",
        "\n",
        "    # Choose the solution with a positive depth\n",
        "    if t1[2] > 0:\n",
        "        R = R1\n",
        "        t = t1\n",
        "    else:\n",
        "        R"
      ],
      "metadata": {
        "id": "iNt3jbbmf3-m"
      },
      "execution_count": 7,
      "outputs": []
    },
    {
      "cell_type": "code",
      "source": [
        "def compute_one_R_and_t_from_E(E):\n",
        "    U, _, Vt = np.linalg.svd(E)\n",
        "    V = Vt.T\n",
        "    W = np.array([[0, -1, 0], [1, 0, 0], [0, 0, 1]])  # Skew-symmetric matrix\n",
        "\n",
        "    # Two possible solutions for R and t\n",
        "    R1 = U @ W @ V.T\n",
        "    R2 = U @ W.T @ V.T\n",
        "    t1 = U[:, 2]\n",
        "    t2 = -U[:, 2]\n",
        "\n",
        "    # Choose the correct solution based on triangulation\n",
        "    P1 = np.hstack((np.eye(3), np.zeros((3, 1))))\n",
        "    P2_1 = np.hstack((R1, t1[:, np.newaxis]))\n",
        "    P2_2 = np.hstack((R1, t2[:, np.newaxis]))\n",
        "    P2_3 = np.hstack((R2, t1[:, np.newaxis]))\n",
        "    P2_4 = np.hstack((R2, t2[:, np.newaxis]))\n",
        "\n",
        "    R = None\n",
        "    t = None\n",
        "    for P2 in [P2_1, P2_2, P2_3, P2_4]:\n",
        "        X_hom = cv2.triangulatePoints(P1, P2, pts1.T, pts2.T)\n",
        "        X_hom = X_hom / X_hom[3]\n",
        "        if (np.all(X_hom[2, :] > 0) and\n",
        "                P2[2, 3] > 0 and\n",
        "                P2[2, :3] @ X_hom[:, 0] > 0 and\n",
        "                P2[2, :3] @ X_hom[:, 1] > 0 and\n",
        "                P2[2, :3] @ X_hom[:, 2] > 0):\n",
        "            R = P2[:, :3]\n",
        "            t = P2[:, 3]\n",
        "            return R, t\n",
        "\n",
        "    if R is None or t is None:\n",
        "        #raise ValueError(\"Triangulation failed for all possible solutions.\")\n",
        "        R, t = [[0,0,0],[0,0,0]]\n",
        "    return R, t\n"
      ],
      "metadata": {
        "id": "V1XhPGbQhN0B"
      },
      "execution_count": 26,
      "outputs": []
    },
    {
      "cell_type": "markdown",
      "source": [
        "### Sanity check, the computed matrix should be approximately zero"
      ],
      "metadata": {
        "id": "FpfiQxPQj7bb"
      }
    },
    {
      "cell_type": "code",
      "source": [
        "R,t = compute_one_R_and_t_from_E(E)\n",
        "\n",
        "tx= np.array([[0,-t[2],t[1]],[t[2],0,-t[0]],[-t[1],t[0],0]])\n",
        "R@tx-E # this should be almost 0"
      ],
      "metadata": {
        "id": "bxqzY7QeNf9x",
        "colab": {
          "base_uri": "https://localhost:8080/"
        },
        "outputId": "cb757877-bd90-4812-db72-0ef248d9bd78"
      },
      "execution_count": 27,
      "outputs": [
        {
          "output_type": "execute_result",
          "data": {
            "text/plain": [
              "array([[-2.06828297e-06, -1.06902139e+02, -1.06902169e+02],\n",
              "       [-1.06902191e+02, -4.01778575e-09,  4.14012457e-08],\n",
              "       [ 1.06902169e+02,  4.67788717e-08,  1.35986147e-09]])"
            ]
          },
          "metadata": {},
          "execution_count": 27
        }
      ]
    },
    {
      "cell_type": "markdown",
      "source": [
        "## Q1.b. (5 points) Generate 3D points using pts1, pts2, E, and t"
      ],
      "metadata": {
        "id": "vOwL072gkE3v"
      }
    },
    {
      "cell_type": "code",
      "source": [
        "# complete the code here\n",
        "def return3Dpoints(pts1,pts2,E,t):\n",
        "    pass\n"
      ],
      "metadata": {
        "id": "1Dcif4_qkt2e"
      },
      "execution_count": null,
      "outputs": []
    },
    {
      "cell_type": "code",
      "source": [
        "def return3Dpoints(pts1, pts2, E, t):\n",
        "    # Calculate the 3D points using triangulation\n",
        "    P1 = np.hstack((np.eye(3), np.zeros((3, 1))))\n",
        "    P2 = np.hstack((E @ t.reshape(3, 1), E))\n",
        "    pts1_hom = np.hstack((pts1, np.ones((pts1.shape[0], 1))))\n",
        "    pts2_hom = np.hstack((pts2, np.ones((pts2.shape[0], 1))))\n",
        "    X_hom = cv2.triangulatePoints(P1, P2, pts1_hom.T, pts2_hom.T)\n",
        "    X_hom = X_hom / X_hom[3]\n",
        "    X = X_hom[:3].T\n",
        "    \n",
        "    return X\n"
      ],
      "metadata": {
        "id": "8nDFb9NWnAfx"
      },
      "execution_count": 31,
      "outputs": []
    },
    {
      "cell_type": "markdown",
      "source": [
        "### you may find the following function to be helpful"
      ],
      "metadata": {
        "id": "5p8GJMBLlM6a"
      }
    },
    {
      "cell_type": "code",
      "source": [
        "def computeIntersection(a1,b1,a2,b2):\n",
        "# for N lines a1+l1 b1 , a2+ l2 b2 in 3D space, return N points in cartesian coordinate\n",
        "# a1, a2, b1, b2 should all have shape (N,3)\n",
        "    d=a1-a2\n",
        "    db1=np.sum(d*b1,axis=1)\n",
        "    db2=np.sum(d*b2,axis=1)\n",
        "    b1b2=np.sum(b1*b2,axis=1)\n",
        "    b1b1=np.sum(b1*b1,axis=1)\n",
        "    b2b2=np.sum(b2*b2,axis=1)\n",
        "\n",
        "    denom = b1b2*b1b2 - b1b1*b2b2\n",
        "    l1 = (db1*b2b2 - db2*b1b2)/denom\n",
        "    l2 = (db1*b1b2 - db2*b1b1)/denom\n",
        "    \n",
        "    return 0.5*(a1.T+l1*b1.T+a2.T+l2*b2.T).T"
      ],
      "metadata": {
        "id": "4O9mssrcNiea"
      },
      "execution_count": 32,
      "outputs": []
    },
    {
      "cell_type": "markdown",
      "source": [
        "### Check your result, you should see a bunny"
      ],
      "metadata": {
        "id": "W5hKrIi9mevc"
      }
    },
    {
      "cell_type": "code",
      "source": [
        "import open3d as o3d\n",
        "import numpy as np\n",
        "import plotly.graph_objs as go\n",
        "\n",
        "# Xs = np.random.rand(10,3)\n",
        "Xs = return3Dpoints(pts1,pts2,E,t)\n",
        "cloud=o3d.geometry.PointCloud(o3d.utility.Vector3dVector(Xs)) \n",
        "\n",
        "# Convert the point cloud to a numpy array\n",
        "point_cloud_np = np.asarray(cloud.points)\n",
        "\n",
        "# Create a Plotly scatter plot\n",
        "scatter = go.Scatter3d(x=point_cloud_np[:, 0], y=point_cloud_np[:, 1], z=point_cloud_np[:, 2],\n",
        "                       mode='markers',\n",
        "                       marker=dict(size=3, color='red', opacity=0.8))\n",
        "\n",
        "# Set the layout for the plot\n",
        "layout = go.Layout(scene=dict(xaxis_title='X',\n",
        "                              yaxis_title='Y',\n",
        "                              zaxis_title='Z'),\n",
        "                   margin=dict(l=0, r=0, b=0, t=0))\n",
        "\n",
        "# Create and display the plot\n",
        "fig = go.Figure(data=[scatter], layout=layout)\n",
        "fig.show()\n",
        "\n"
      ],
      "metadata": {
        "id": "DTxXG5JQN10O",
        "colab": {
          "base_uri": "https://localhost:8080/",
          "height": 357
        },
        "outputId": "cddc617c-9c6f-478c-9287-b80e8d8f71e3"
      },
      "execution_count": 33,
      "outputs": [
        {
          "output_type": "error",
          "ename": "AttributeError",
          "evalue": "ignored",
          "traceback": [
            "\u001b[0;31m---------------------------------------------------------------------------\u001b[0m",
            "\u001b[0;31mAttributeError\u001b[0m                            Traceback (most recent call last)",
            "\u001b[0;32m<ipython-input-33-ceae5b18e22d>\u001b[0m in \u001b[0;36m<cell line: 6>\u001b[0;34m()\u001b[0m\n\u001b[1;32m      4\u001b[0m \u001b[0;34m\u001b[0m\u001b[0m\n\u001b[1;32m      5\u001b[0m \u001b[0;31m# Xs = np.random.rand(10,3)\u001b[0m\u001b[0;34m\u001b[0m\u001b[0;34m\u001b[0m\u001b[0m\n\u001b[0;32m----> 6\u001b[0;31m \u001b[0mXs\u001b[0m \u001b[0;34m=\u001b[0m \u001b[0mreturn3Dpoints\u001b[0m\u001b[0;34m(\u001b[0m\u001b[0mpts1\u001b[0m\u001b[0;34m,\u001b[0m\u001b[0mpts2\u001b[0m\u001b[0;34m,\u001b[0m\u001b[0mE\u001b[0m\u001b[0;34m,\u001b[0m\u001b[0mt\u001b[0m\u001b[0;34m)\u001b[0m\u001b[0;34m\u001b[0m\u001b[0;34m\u001b[0m\u001b[0m\n\u001b[0m\u001b[1;32m      7\u001b[0m \u001b[0mcloud\u001b[0m\u001b[0;34m=\u001b[0m\u001b[0mo3d\u001b[0m\u001b[0;34m.\u001b[0m\u001b[0mgeometry\u001b[0m\u001b[0;34m.\u001b[0m\u001b[0mPointCloud\u001b[0m\u001b[0;34m(\u001b[0m\u001b[0mo3d\u001b[0m\u001b[0;34m.\u001b[0m\u001b[0mutility\u001b[0m\u001b[0;34m.\u001b[0m\u001b[0mVector3dVector\u001b[0m\u001b[0;34m(\u001b[0m\u001b[0mXs\u001b[0m\u001b[0;34m)\u001b[0m\u001b[0;34m)\u001b[0m\u001b[0;34m\u001b[0m\u001b[0;34m\u001b[0m\u001b[0m\n\u001b[1;32m      8\u001b[0m \u001b[0;34m\u001b[0m\u001b[0m\n",
            "\u001b[0;32m<ipython-input-31-8ef46d6b4368>\u001b[0m in \u001b[0;36mreturn3Dpoints\u001b[0;34m(pts1, pts2, E, t)\u001b[0m\n\u001b[1;32m      2\u001b[0m     \u001b[0;31m# Calculate the 3D points using triangulation\u001b[0m\u001b[0;34m\u001b[0m\u001b[0;34m\u001b[0m\u001b[0m\n\u001b[1;32m      3\u001b[0m     \u001b[0mP1\u001b[0m \u001b[0;34m=\u001b[0m \u001b[0mnp\u001b[0m\u001b[0;34m.\u001b[0m\u001b[0mhstack\u001b[0m\u001b[0;34m(\u001b[0m\u001b[0;34m(\u001b[0m\u001b[0mnp\u001b[0m\u001b[0;34m.\u001b[0m\u001b[0meye\u001b[0m\u001b[0;34m(\u001b[0m\u001b[0;36m3\u001b[0m\u001b[0;34m)\u001b[0m\u001b[0;34m,\u001b[0m \u001b[0mnp\u001b[0m\u001b[0;34m.\u001b[0m\u001b[0mzeros\u001b[0m\u001b[0;34m(\u001b[0m\u001b[0;34m(\u001b[0m\u001b[0;36m3\u001b[0m\u001b[0;34m,\u001b[0m \u001b[0;36m1\u001b[0m\u001b[0;34m)\u001b[0m\u001b[0;34m)\u001b[0m\u001b[0;34m)\u001b[0m\u001b[0;34m)\u001b[0m\u001b[0;34m\u001b[0m\u001b[0;34m\u001b[0m\u001b[0m\n\u001b[0;32m----> 4\u001b[0;31m     \u001b[0mP2\u001b[0m \u001b[0;34m=\u001b[0m \u001b[0mnp\u001b[0m\u001b[0;34m.\u001b[0m\u001b[0mhstack\u001b[0m\u001b[0;34m(\u001b[0m\u001b[0;34m(\u001b[0m\u001b[0mE\u001b[0m \u001b[0;34m@\u001b[0m \u001b[0mt\u001b[0m\u001b[0;34m.\u001b[0m\u001b[0mnp\u001b[0m\u001b[0;34m.\u001b[0m\u001b[0mreshape\u001b[0m\u001b[0;34m(\u001b[0m\u001b[0;36m3\u001b[0m\u001b[0;34m,\u001b[0m \u001b[0;36m1\u001b[0m\u001b[0;34m)\u001b[0m\u001b[0;34m,\u001b[0m \u001b[0mE\u001b[0m\u001b[0;34m)\u001b[0m\u001b[0;34m)\u001b[0m\u001b[0;34m\u001b[0m\u001b[0;34m\u001b[0m\u001b[0m\n\u001b[0m\u001b[1;32m      5\u001b[0m     \u001b[0mpts1_hom\u001b[0m \u001b[0;34m=\u001b[0m \u001b[0mnp\u001b[0m\u001b[0;34m.\u001b[0m\u001b[0mhstack\u001b[0m\u001b[0;34m(\u001b[0m\u001b[0;34m(\u001b[0m\u001b[0mpts1\u001b[0m\u001b[0;34m,\u001b[0m \u001b[0mnp\u001b[0m\u001b[0;34m.\u001b[0m\u001b[0mones\u001b[0m\u001b[0;34m(\u001b[0m\u001b[0;34m(\u001b[0m\u001b[0mpts1\u001b[0m\u001b[0;34m.\u001b[0m\u001b[0mshape\u001b[0m\u001b[0;34m[\u001b[0m\u001b[0;36m0\u001b[0m\u001b[0;34m]\u001b[0m\u001b[0;34m,\u001b[0m \u001b[0;36m1\u001b[0m\u001b[0;34m)\u001b[0m\u001b[0;34m)\u001b[0m\u001b[0;34m)\u001b[0m\u001b[0;34m)\u001b[0m\u001b[0;34m\u001b[0m\u001b[0;34m\u001b[0m\u001b[0m\n\u001b[1;32m      6\u001b[0m     \u001b[0mpts2_hom\u001b[0m \u001b[0;34m=\u001b[0m \u001b[0mnp\u001b[0m\u001b[0;34m.\u001b[0m\u001b[0mhstack\u001b[0m\u001b[0;34m(\u001b[0m\u001b[0;34m(\u001b[0m\u001b[0mpts2\u001b[0m\u001b[0;34m,\u001b[0m \u001b[0mnp\u001b[0m\u001b[0;34m.\u001b[0m\u001b[0mones\u001b[0m\u001b[0;34m(\u001b[0m\u001b[0;34m(\u001b[0m\u001b[0mpts2\u001b[0m\u001b[0;34m.\u001b[0m\u001b[0mshape\u001b[0m\u001b[0;34m[\u001b[0m\u001b[0;36m0\u001b[0m\u001b[0;34m]\u001b[0m\u001b[0;34m,\u001b[0m \u001b[0;36m1\u001b[0m\u001b[0;34m)\u001b[0m\u001b[0;34m)\u001b[0m\u001b[0;34m)\u001b[0m\u001b[0;34m)\u001b[0m\u001b[0;34m\u001b[0m\u001b[0;34m\u001b[0m\u001b[0m\n",
            "\u001b[0;31mAttributeError\u001b[0m: 'list' object has no attribute 'np'"
          ]
        }
      ]
    },
    {
      "cell_type": "markdown",
      "source": [
        "# Q2 - Classify clothing\n",
        "\n",
        "In this problem, you will implement a network to classify different types of clothing. We will play with the [FachionMNIST](https://github.com/zalandoresearch/fashion-mnist) dataset, which contains ten different classes.\n",
        "\n",
        "Your network should contain three conv layers with 6, 16, and 32 filters (all 3x3 and no padding), respectively. You should use ReLU activation after each conv layer followed by 2x2 max pooling. There will be two fully connected layers after the last pooling layer. The first fully connected layer has 64 neurons.\n"
      ],
      "metadata": {
        "id": "yLFPKEkdO0-8"
      }
    },
    {
      "cell_type": "markdown",
      "source": [
        "## Q2.a. (2 points) How many outputs for the last fully connected layer (Hint: there are 10 classes)"
      ],
      "metadata": {
        "id": "OGelYwTfpe59"
      }
    },
    {
      "cell_type": "markdown",
      "source": [
        "<font color='red'>Answer: **10, because there is 1 for each class.**</font>"
      ],
      "metadata": {
        "id": "KjsZ0vYAptEp"
      }
    },
    {
      "cell_type": "markdown",
      "source": [
        "## Q2.b. (6 points) How many parameters in each layer of the network"
      ],
      "metadata": {
        "id": "dAUdUUfyqGo7"
      }
    },
    {
      "cell_type": "markdown",
      "source": [
        "<font color='red'>Answer: </font>\n",
        "\n",
        "Conv layer 1:\n",
        "\n",
        "*   Number of filters: 6\n",
        "*   Filter size: 3x3\n",
        "*   Number of parameters: (3x3x1+1)x6 = 60 \n",
        "\n",
        "Conv layer 2:\n",
        "*   Number of filters: 16\n",
        "*   Filter size: 3x3\n",
        "*   Number of parameters: (3x3x6+1)x16 = 880\n",
        "\n",
        "Conv layer 3:\n",
        "*   Number of filters: 32\n",
        "*   Filter size: 3x3\n",
        "*   Number of parameters: (3x3x16+1)x32 = 4640 \n",
        "\n",
        "Fully connected layer 1:\n",
        "*   Number of neurons: 64\n",
        "*   Number of parameters: (32x7x7+1)x64 = 100416 \n",
        "\n",
        "Fully connected layer 2:\n",
        "*   Number of neurons: 10\n",
        "*   Number of parameters: (64+1)x10 = 650 \n",
        "\n",
        "Therefore, the total number of parameters in the network is:\n",
        "60 + 880 + 4640 + 100416 + 650 = 106646.\n",
        "\n"
      ],
      "metadata": {
        "id": "ScG5qf-fqRg6"
      }
    },
    {
      "cell_type": "markdown",
      "source": [
        "## Q2.c (12 points) Complete the code below by defining the network"
      ],
      "metadata": {
        "id": "AUeJ3O7zqoIr"
      }
    },
    {
      "cell_type": "markdown",
      "source": [
        "### Download and load the dataset"
      ],
      "metadata": {
        "id": "sStYfyDEqw9H"
      }
    },
    {
      "cell_type": "code",
      "source": [
        "import torch\n",
        "import torchvision\n",
        "import torchvision.transforms as transforms\n",
        "\n",
        "use_cuda = False # set it to True if you have GPU and want to use it\n",
        "\n",
        "transform = transforms.Compose(\n",
        "    [transforms.ToTensor(),\n",
        "    transforms.Normalize((0.5,), (0.5,))])\n",
        "\n",
        "# Create datasets for training & validation, download if necessary\n",
        "training_set = torchvision.datasets.FashionMNIST('./data', train=True, transform=transform, download=True)\n",
        "validation_set = torchvision.datasets.FashionMNIST('./data', train=False, transform=transform, download=True)\n",
        "\n",
        "# Create data loaders for our datasets; shuffle for training, not for validation\n",
        "training_loader = torch.utils.data.DataLoader(training_set, batch_size=4, shuffle=True, num_workers=2)\n",
        "validation_loader = torch.utils.data.DataLoader(validation_set, batch_size=4, shuffle=False, num_workers=2)\n",
        "\n",
        "# Class labels\n",
        "classes = ('T-shirt/top', 'Trouser', 'Pullover', 'Dress', 'Coat',\n",
        "        'Sandal', 'Shirt', 'Sneaker', 'Bag', 'Ankle Boot')\n",
        "\n",
        "# Report split sizes\n",
        "print('Training set has {} instances'.format(len(training_set)))\n",
        "print('Validation set has {} instances'.format(len(validation_set)))"
      ],
      "metadata": {
        "colab": {
          "base_uri": "https://localhost:8080/"
        },
        "id": "vtMPWXVuq11L",
        "outputId": "f24f3767-c906-4c05-c3ef-8f4ad96a6e89"
      },
      "execution_count": null,
      "outputs": [
        {
          "output_type": "stream",
          "name": "stdout",
          "text": [
            "Training set has 60000 instances\n",
            "Validation set has 10000 instances\n"
          ]
        }
      ]
    },
    {
      "cell_type": "markdown",
      "source": [
        "### Visualize the dataset"
      ],
      "metadata": {
        "id": "3iU3uKIOq4Cw"
      }
    },
    {
      "cell_type": "code",
      "source": [
        "import matplotlib.pyplot as plt\n",
        "import numpy as np\n",
        "\n",
        "# Helper function for inline image display\n",
        "def matplotlib_imshow(img, one_channel=False):\n",
        "    if one_channel:\n",
        "        img = img.mean(dim=0)\n",
        "    img = img / 2 + 0.5     # unnormalize\n",
        "    npimg = img.numpy()\n",
        "    if one_channel:\n",
        "        plt.imshow(npimg, cmap=\"Greys\")\n",
        "    else:\n",
        "        plt.imshow(np.transpose(npimg, (1, 2, 0)))\n",
        "\n",
        "dataiter = iter(training_loader)\n",
        "images, labels = next(dataiter)\n",
        "\n",
        "# Create a grid from the images and show them\n",
        "img_grid = torchvision.utils.make_grid(images)\n",
        "matplotlib_imshow(img_grid, one_channel=True)\n",
        "print('  '.join(classes[labels[j]] for j in range(4)))"
      ],
      "metadata": {
        "colab": {
          "base_uri": "https://localhost:8080/",
          "height": 211
        },
        "id": "29QsDGRdrD1M",
        "outputId": "e064fe00-eb79-4bb7-f064-613676e5842a"
      },
      "execution_count": null,
      "outputs": [
        {
          "output_type": "stream",
          "name": "stdout",
          "text": [
            "Sandal  Coat  Bag  Pullover\n"
          ]
        },
        {
          "output_type": "display_data",
          "data": {
            "text/plain": [
              "<Figure size 640x480 with 1 Axes>"
            ],
            "image/png": "[encoded data removed]"
          },
          "metadata": {}
        }
      ]
    },
    {
      "cell_type": "markdown",
      "source": [
        "### <font color='red'>Define your network here</font>"
      ],
      "metadata": {
        "id": "Hykeo0d6rwZg"
      }
    },
    {
      "cell_type": "code",
      "source": [
        "import torch.nn as nn\n",
        "import torch\n",
        "import torch.nn.functional as F\n",
        "\n",
        "class GarmentClassifier(nn.Module):\n",
        "    def __init__(self):\n",
        "#-- complete the code here    \n",
        "\n",
        "\n",
        "\n",
        "\n",
        "#-- end complete the code here    \n",
        "\n",
        "    def forward(self, x):\n",
        "#-- complete the code here    \n",
        "\n",
        "\n",
        "\n",
        "\n",
        "#-- end complete the code here    \n",
        "\n",
        "\n",
        "if torch.cuda.is_available() and use_cuda:\n",
        "    model = GarmentClassifier().cuda()\n",
        "else:\n",
        "    model = GarmentClassifier()"
      ],
      "metadata": {
        "id": "Gg2_srG_sWtw"
      },
      "execution_count": null,
      "outputs": []
    },
    {
      "cell_type": "code",
      "source": [],
      "metadata": {
        "id": "jKvfH-LDwFXn"
      },
      "execution_count": null,
      "outputs": []
    },
    {
      "cell_type": "markdown",
      "source": [
        "### Prepare \"trainer\""
      ],
      "metadata": {
        "id": "oVTOks9GxPe0"
      }
    },
    {
      "cell_type": "code",
      "source": [
        "loss_fn = torch.nn.CrossEntropyLoss()\n",
        "optimizer = torch.optim.SGD(model.parameters(), lr=0.001, momentum=0.9)\n",
        "\n",
        "def train_one_epoch(epoch_index):\n",
        "    running_loss = 0.\n",
        "    last_loss = 0.\n",
        "    \n",
        "    # Here, we use enumerate(training_loader) instead of\n",
        "    # iter(training_loader) so that we can track the batch\n",
        "    # index and do some intra-epoch reporting\n",
        "    for i, data in enumerate(training_loader):\n",
        "        # Every data instance is an input + label pair\n",
        "        inputs, labels = data\n",
        "        if torch.cuda.is_available() and use_cuda:\n",
        "            inputs=inputs.cuda()\n",
        "            labels=labels.cuda()\n",
        "\n",
        "        # Zero your gradients for every batch!\n",
        "        optimizer.zero_grad()\n",
        "\n",
        "        # Make predictions for this batch\n",
        "        outputs = model(inputs)\n",
        "\n",
        "        # Compute the loss and its gradients\n",
        "        loss = loss_fn(outputs, labels)\n",
        "        loss.backward()\n",
        "\n",
        "        # Adjust learning weights\n",
        "        optimizer.step()\n",
        "\n",
        "        # Gather data and report\n",
        "        running_loss += loss.item()\n",
        "        if i % 1000 == 999:\n",
        "            last_loss = running_loss / 1000 # loss per batch\n",
        "            print('  batch {} loss: {}'.format(i + 1, last_loss))\n",
        "#             tb_x = epoch_index * len(training_loader) + i + 1\n",
        "#             tb_writer.add_scalar('Loss/train', last_loss, tb_x)\n",
        "            running_loss = 0.\n",
        "\n",
        "    return last_loss"
      ],
      "metadata": {
        "id": "rVDTixh6xVSw"
      },
      "execution_count": null,
      "outputs": []
    },
    {
      "cell_type": "markdown",
      "source": [
        "### Start training"
      ],
      "metadata": {
        "id": "bs0-PPeYxWB2"
      }
    },
    {
      "cell_type": "code",
      "source": [
        "# Initializing in a separate cell so we can easily add more epochs to the same run\n",
        "torch.multiprocessing.set_sharing_strategy('file_system')\n",
        "epoch_number = 0\n",
        "\n",
        "EPOCHS = 3\n",
        "\n",
        "best_vloss = 1_000_000.\n",
        "\n",
        "for epoch in range(EPOCHS):\n",
        "    print('EPOCH {}:'.format(epoch_number + 1))\n",
        "\n",
        "    # Make sure gradient tracking is on, and do a pass over the data\n",
        "    model.train(True)\n",
        "    avg_loss = train_one_epoch(epoch_number)\n",
        "\n",
        "    # We don't need gradients on to do reporting\n",
        "    model.train(False)\n",
        "\n",
        "    running_vloss = 0.0\n",
        "    for i, vdata in enumerate(validation_loader):\n",
        "        vinputs, vlabels = vdata\n",
        "        if torch.cuda.is_available() and use_cuda:\n",
        "            vinputs=vinputs.cuda()\n",
        "            vlabels=vlabels.cuda()\n",
        "        voutputs = model(vinputs)\n",
        "        vloss = loss_fn(voutputs, vlabels)\n",
        "        running_vloss += vloss\n",
        "\n",
        "    avg_vloss = running_vloss / (i + 1)\n",
        "    print('LOSS train {} valid {}'.format(avg_loss, avg_vloss))\n",
        "\n",
        "    # Track best performance, and save the model's state\n",
        "    if avg_vloss < best_vloss:\n",
        "        best_vloss = avg_vloss\n",
        "\n",
        "    epoch_number += 1"
      ],
      "metadata": {
        "colab": {
          "base_uri": "https://localhost:8080/"
        },
        "id": "TA4xdWNBxZjd",
        "outputId": "75fe3782-e688-4bcd-fe75-38b94565ce8e"
      },
      "execution_count": null,
      "outputs": [
        {
          "output_type": "stream",
          "name": "stdout",
          "text": [
            "EPOCH 1:\n",
            "  batch 1000 loss: 2.2209140478372573\n",
            "  batch 2000 loss: 1.0597067735344172\n",
            "  batch 3000 loss: 0.8056079536657781\n",
            "  batch 4000 loss: 0.7376479125879705\n",
            "  batch 5000 loss: 0.6842778823431581\n",
            "  batch 6000 loss: 0.65702111174725\n",
            "  batch 7000 loss: 0.6237913186040241\n",
            "  batch 8000 loss: 0.591344917638693\n",
            "  batch 9000 loss: 0.5980978757655248\n",
            "  batch 10000 loss: 0.5675497184465057\n",
            "  batch 11000 loss: 0.5720603720713406\n",
            "  batch 12000 loss: 0.5454097856273875\n",
            "  batch 13000 loss: 0.5505444187048124\n",
            "  batch 14000 loss: 0.520326305732131\n",
            "  batch 15000 loss: 0.5213543336475268\n",
            "LOSS train 0.5213543336475268 valid 0.5316510200500488\n",
            "EPOCH 2:\n",
            "  batch 1000 loss: 0.5051652404485503\n",
            "  batch 2000 loss: 0.5176468821153976\n",
            "  batch 3000 loss: 0.5004560033504386\n",
            "  batch 4000 loss: 0.49305923641915433\n",
            "  batch 5000 loss: 0.49632014509500005\n",
            "  batch 6000 loss: 0.4488096674976987\n",
            "  batch 7000 loss: 0.47842205653060227\n",
            "  batch 8000 loss: 0.48659781156852844\n",
            "  batch 9000 loss: 0.46216250423504973\n",
            "  batch 10000 loss: 0.48345977497380227\n",
            "  batch 11000 loss: 0.47206678640563043\n",
            "  batch 12000 loss: 0.47466552512784255\n",
            "  batch 13000 loss: 0.4455884355795315\n",
            "  batch 14000 loss: 0.440620745199034\n",
            "  batch 15000 loss: 0.42106870629580223\n",
            "LOSS train 0.42106870629580223 valid 0.4642893970012665\n",
            "EPOCH 3:\n",
            "  batch 1000 loss: 0.4330650072314311\n",
            "  batch 2000 loss: 0.41302447173534895\n",
            "  batch 3000 loss: 0.4293818404938793\n",
            "  batch 4000 loss: 0.428424136364134\n",
            "  batch 5000 loss: 0.43147312864213017\n",
            "  batch 6000 loss: 0.41034544917862514\n",
            "  batch 7000 loss: 0.4223997573509696\n",
            "  batch 8000 loss: 0.42297357550123704\n",
            "  batch 9000 loss: 0.42117095328998405\n",
            "  batch 10000 loss: 0.435699387894274\n",
            "  batch 11000 loss: 0.4140737509283208\n",
            "  batch 12000 loss: 0.4144794744350365\n",
            "  batch 13000 loss: 0.4057245283794473\n",
            "  batch 14000 loss: 0.42703507351779263\n",
            "  batch 15000 loss: 0.4325565875062021\n",
            "LOSS train 0.4325565875062021 valid 0.43847349286079407\n"
          ]
        }
      ]
    },
    {
      "cell_type": "markdown",
      "source": [
        "### Verify results"
      ],
      "metadata": {
        "id": "wYJjGWZ_xb4z"
      }
    },
    {
      "cell_type": "code",
      "source": [
        "dataiter = iter(validation_loader)\n",
        "images, labels = next(dataiter)\n",
        "\n",
        "# Create a grid from the images and show them\n",
        "img_grid = torchvision.utils.make_grid(images)\n",
        "matplotlib_imshow(img_grid, one_channel=True)\n",
        "print('Groundtruth: '+'  '.join(classes[labels[j]] for j in range(4)))\n",
        "if torch.cuda.is_available() and use_cuda:\n",
        "    images=images.cuda()\n",
        "print('Result:      '+'  '.join([classes[i] for i in torch.argmax(model(images).cpu(),1)]))"
      ],
      "metadata": {
        "colab": {
          "base_uri": "https://localhost:8080/",
          "height": 229
        },
        "id": "lj6K930hxhIL",
        "outputId": "9258bfe1-e554-4513-c227-073574ed4dc1"
      },
      "execution_count": null,
      "outputs": [
        {
          "output_type": "stream",
          "name": "stdout",
          "text": [
            "Groundtruth: Ankle Boot  Pullover  Trouser  Trouser\n",
            "Result:      Ankle Boot  Pullover  Trouser  Trouser\n"
          ]
        },
        {
          "output_type": "display_data",
          "data": {
            "text/plain": [
              "<Figure size 640x480 with 1 Axes>"
            ],
            "image/png": "[encoded data removed]"
          },
          "metadata": {}
        }
      ]
    },
    {
      "cell_type": "markdown",
      "source": [
        "## Q3. (10 points) Object detection with YOLOv5\n",
        "Please follow the instructions [here](https://pytorch.org/hub/ultralytics_yolov5/) to install YOLOv5 on PyTorch. \n",
        "​Test YOLOv5s on one of your own photos. Show your code and results.\n"
      ],
      "metadata": {
        "id": "smCD1HeVxmpi"
      }
    },
    {
      "cell_type": "markdown",
      "source": [
        "## Q4. (10 points, extra-credit) Try out YOLOv7\n",
        "\n",
        "Try to setup YOLOv7 according to the official github [page](https://github.com/WongKinYiu/yolov7). Create some screenshots of your running of the code and compare results obtained with YOLOv5 for your photos. Note that you will only get partial credit using the Huggingface web demo. "
      ],
      "metadata": {
        "id": "Jk1dWd0Wx9bg"
      }
    }
  ]
}